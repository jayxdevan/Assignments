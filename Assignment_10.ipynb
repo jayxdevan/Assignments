{
 "cells": [
  {
   "cell_type": "markdown",
   "metadata": {},
   "source": [
    "# 1. What is the difference between shutil.copy() and shutil.copytree()?"
   ]
  },
  {
   "cell_type": "markdown",
   "metadata": {},
   "source": [
    "* shutil.copy() function allows you to copy a single file to a folder. The path of the original file and the destination folder must be passed as arguments to shutil.copy() function.\n",
    "* shutil.copytree() function copies an entire folder,its subfolders and files to the destination folder. The path of the orginal folder and the destination folder must be specified."
   ]
  },
  {
   "cell_type": "markdown",
   "metadata": {},
   "source": [
    "# 2. What function is used to rename files?"
   ]
  },
  {
   "cell_type": "markdown",
   "metadata": {},
   "source": [
    "* shutil.move() function can be used to rename files. This function is actually used to move files to a particular folder, but instead of specifying the path of the destination folder, we can just give the new name of the file to rename the file."
   ]
  },
  {
   "cell_type": "markdown",
   "metadata": {},
   "source": [
    "# 3. What is the difference between the delete functions in the send2trash and shutil modules?"
   ]
  },
  {
   "cell_type": "markdown",
   "metadata": {},
   "source": [
    "* Under the shutil module, shutil.rmtree() will permanently delete a folder,its subfolders and all its contents. Once this function is used, it cannot be reverted.\n",
    "* the send2trash.send2trash() function under the send2trash module, can be used to delete files or folders, but it will not permanently delete them. It will just move them to the Recycle Bin, from which they can be restored if necessary."
   ]
  },
  {
   "cell_type": "markdown",
   "metadata": {},
   "source": [
    "# 4. ZipFile objects have a close() method just like File objects’ close() method. What ZipFile method is equivalent to File objects’ open() method? "
   ]
  },
  {
   "cell_type": "markdown",
   "metadata": {},
   "source": [
    "* zipfile.ZipFile() funtion which returns a zipfile object is similair to the open() function which returns file object."
   ]
  },
  {
   "cell_type": "markdown",
   "metadata": {},
   "source": [
    "# 5. Write a program that walks through a folder tree and searches for files with a certain file extension (such as .pdf or .jpg). Copy these files from whatever location they are in to a new folder."
   ]
  },
  {
   "cell_type": "code",
   "execution_count": 3,
   "metadata": {},
   "outputs": [],
   "source": [
    "import os\n",
    "import shutil"
   ]
  },
  {
   "cell_type": "code",
   "execution_count": 4,
   "metadata": {},
   "outputs": [
    {
     "data": {
      "text/plain": [
       "<generator object walk at 0x00000218662C8E48>"
      ]
     },
     "execution_count": 4,
     "metadata": {},
     "output_type": "execute_result"
    }
   ],
   "source": [
    "for foldername,subfolder,filenames in os.walk('C:\\\\Users\\\\j_dev\\\\Desktop\\\\Ineuron\\\\Full Stack  DATA SCIENCE\\\\Images'):\n",
    "    for filename in filenames:\n",
    "        if filename.endswith('.jpg'):\n",
    "            shutil.copy(\"C:\\\\Users\\\\j_dev\\\\Desktop\\\\Ineuron\\\\Full Stack  DATA SCIENCE\\\\Images\\\\\" + filename,\"C:\\\\Users\\\\j_dev\\\\Desktop\\\\Ineuron\\\\Full Stack  DATA SCIENCE\\\\Images_copy\")\n",
    "            \n",
    "            \n"
   ]
  },
  {
   "cell_type": "code",
   "execution_count": null,
   "metadata": {},
   "outputs": [],
   "source": []
  }
 ],
 "metadata": {
  "kernelspec": {
   "display_name": "Python 3",
   "language": "python",
   "name": "python3"
  },
  "language_info": {
   "codemirror_mode": {
    "name": "ipython",
    "version": 3
   },
   "file_extension": ".py",
   "mimetype": "text/x-python",
   "name": "python",
   "nbconvert_exporter": "python",
   "pygments_lexer": "ipython3",
   "version": "3.7.4"
  }
 },
 "nbformat": 4,
 "nbformat_minor": 2
}
