{
 "cells": [
  {
   "cell_type": "code",
   "execution_count": 3,
   "metadata": {
    "scrolled": true
   },
   "outputs": [
    {
     "name": "stdout",
     "output_type": "stream",
     "text": [
      "Collecting pip\n",
      "  Downloading https://files.pythonhosted.org/packages/fe/ef/60d7ba03b5c442309ef42e7d69959f73aacccd0d86008362a681c4698e83/pip-21.0.1-py3-none-any.whl (1.5MB)\n",
      "Installing collected packages: pip\n",
      "  Found existing installation: pip 19.2.3\n",
      "    Uninstalling pip-19.2.3:\n",
      "      Successfully uninstalled pip-19.2.3\n",
      "Successfully installed pip-21.0.1\n",
      "Note: you may need to restart the kernel to use updated packages.\n"
     ]
    }
   ],
   "source": [
    "pip install --upgrade pip"
   ]
  },
  {
   "cell_type": "code",
   "execution_count": 4,
   "metadata": {},
   "outputs": [
    {
     "name": "stdout",
     "output_type": "stream",
     "text": [
      "Requirement already satisfied: Pillow in c:\\users\\j_dev\\appdata\\local\\continuum\\anaconda3\\lib\\site-packages (6.2.0)\n",
      "Collecting Pillow\n",
      "  Downloading Pillow-8.1.2-cp37-cp37m-win_amd64.whl (2.2 MB)\n",
      "Installing collected packages: Pillow\n",
      "  Attempting uninstall: Pillow\n",
      "    Found existing installation: Pillow 6.2.0\n",
      "    Uninstalling Pillow-6.2.0:\n",
      "      Successfully uninstalled Pillow-6.2.0\n",
      "Successfully installed Pillow-8.1.2\n",
      "Note: you may need to restart the kernel to use updated packages.\n"
     ]
    }
   ],
   "source": [
    "pip install --upgrade Pillow"
   ]
  },
  {
   "cell_type": "markdown",
   "metadata": {},
   "source": [
    "# 1. What is an RGBA value?"
   ]
  },
  {
   "cell_type": "markdown",
   "metadata": {},
   "source": [
    "* RGBA value tells us how much of RED,GREEN,BLUE and ALPHA(transparency) are there in a colour for each pixel of an image. Each individual value of the RGBA value can range from 0 to 255. In the pillow module, RGBA value is represented by a tuple of 4 integer values (each integer value ranging from 0 to 255)."
   ]
  },
  {
   "cell_type": "markdown",
   "metadata": {},
   "source": [
    "# 2. How can you get the RGBA value of 'CornflowerBlue' from the Pillow module?"
   ]
  },
  {
   "cell_type": "code",
   "execution_count": 5,
   "metadata": {},
   "outputs": [],
   "source": [
    "from PIL import ImageColor"
   ]
  },
  {
   "cell_type": "code",
   "execution_count": 6,
   "metadata": {},
   "outputs": [
    {
     "data": {
      "text/plain": [
       "(100, 149, 237, 255)"
      ]
     },
     "execution_count": 6,
     "metadata": {},
     "output_type": "execute_result"
    }
   ],
   "source": [
    "ImageColor.getcolor('CornflowerBlue', 'RGBA')"
   ]
  },
  {
   "cell_type": "markdown",
   "metadata": {},
   "source": [
    "# 3. What is a box tuple?"
   ]
  },
  {
   "cell_type": "markdown",
   "metadata": {},
   "source": [
    "* In case we want a rectangular portion from an image using pillow, we can pass a box tuple argument which is a tuple of 4 integers where each value of the tuple represents a coordinate of the recatangular portion. The first value is the x coordinate of the leftmost point of that portion. The second value is the y coordinate of the topmost point of the portion. The third value is the x coordinate of the rightmost point of that portion + 1 . Finally the fourth value is the y coordinate of the bottom point of that portion + 1."
   ]
  },
  {
   "cell_type": "markdown",
   "metadata": {},
   "source": [
    "# 4. What function returns an Image object for, say, an image file named zophie.png?"
   ]
  },
  {
   "cell_type": "markdown",
   "metadata": {},
   "source": [
    "* After importing the image module from Pillow, we need to call the Image.open(\"zophie.png\") function. This function returns an Image object."
   ]
  },
  {
   "cell_type": "markdown",
   "metadata": {},
   "source": [
    "# 5. How can you find out the width and height of an Image object’s image? "
   ]
  },
  {
   "cell_type": "markdown",
   "metadata": {},
   "source": [
    "ImageObject.size allows us to get the width and height of an Image object's image."
   ]
  },
  {
   "cell_type": "markdown",
   "metadata": {},
   "source": [
    "# 6. What method would you call to get Image object for a 100×100 image, excluding the lower-left quarter of it?"
   ]
  },
  {
   "cell_type": "markdown",
   "metadata": {},
   "source": [
    "* ImageObject.crop((0,50,50,100)) function will give us an Image object for the lower left quarter which is cropped out of the 100x100 image."
   ]
  },
  {
   "cell_type": "markdown",
   "metadata": {},
   "source": [
    "# 7. After making changes to an Image object, how could you save it as an image file?"
   ]
  },
  {
   "cell_type": "markdown",
   "metadata": {},
   "source": [
    "* ImageObject.save() function and the filename of the image must be passed to the function to save the image."
   ]
  },
  {
   "cell_type": "markdown",
   "metadata": {},
   "source": [
    "# 8. What module contains Pillow’s shape-drawing code?"
   ]
  },
  {
   "cell_type": "markdown",
   "metadata": {},
   "source": [
    "* The ImageDraw module from PIL contains Pillow's shape drawing codes. This module allows you to draw shapes like rectangles, circles or simple lines on an image."
   ]
  },
  {
   "cell_type": "markdown",
   "metadata": {},
   "source": [
    "# 9. Image objects do not have drawing methods. What kind of object does? How do you get this kind of object?"
   ]
  },
  {
   "cell_type": "markdown",
   "metadata": {},
   "source": [
    "* ImageDraw objects have drawing methods. \n",
    "* After Importing ImageDraw from PIL, the Image object must be passed to the ImageDraw.Draw() function which will then return a ImageDraw object. This ImageDraw object can be used to draw simple shapes on images."
   ]
  }
 ],
 "metadata": {
  "kernelspec": {
   "display_name": "Python 3",
   "language": "python",
   "name": "python3"
  },
  "language_info": {
   "codemirror_mode": {
    "name": "ipython",
    "version": 3
   },
   "file_extension": ".py",
   "mimetype": "text/x-python",
   "name": "python",
   "nbconvert_exporter": "python",
   "pygments_lexer": "ipython3",
   "version": "3.7.4"
  }
 },
 "nbformat": 4,
 "nbformat_minor": 2
}
