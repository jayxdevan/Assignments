{
 "cells": [
  {
   "cell_type": "markdown",
   "metadata": {},
   "source": [
    "# 1. Does PyInputPlus come with the Python Standard Library?"
   ]
  },
  {
   "cell_type": "markdown",
   "metadata": {},
   "source": [
    "* No PyInputPlus does not come with Standard Library. It can be installed by typing --- pip install pyinputplus"
   ]
  },
  {
   "cell_type": "markdown",
   "metadata": {},
   "source": [
    "# 2. Why is PyInputPlus commonly imported with import pyinputplus as pyip?"
   ]
  },
  {
   "cell_type": "markdown",
   "metadata": {},
   "source": [
    "* PyInputPlus is commonly imported as pyip,because pyip is an alias. It is just a short form for pyinputplus."
   ]
  },
  {
   "cell_type": "code",
   "execution_count": 2,
   "metadata": {},
   "outputs": [
    {
     "name": "stdout",
     "output_type": "stream",
     "text": [
      "Collecting pyinputplus\n",
      "  Downloading https://files.pythonhosted.org/packages/6a/d4/afb45ed88323ef6d3c4cbf48e9c1bac38059a168b8392a56f3b8f9d1d39c/PyInputPlus-0.2.12.tar.gz\n",
      "  Installing build dependencies: started\n",
      "  Installing build dependencies: finished with status 'done'\n",
      "  Getting requirements to build wheel: started\n",
      "  Getting requirements to build wheel: finished with status 'done'\n",
      "    Preparing wheel metadata: started\n",
      "    Preparing wheel metadata: finished with status 'done'\n",
      "Collecting stdiomask>=0.0.3 (from pyinputplus)\n",
      "  Downloading https://files.pythonhosted.org/packages/47/a2/f72fd263cecb11ed4cc96bd31608359e1df30349c665674e5c35ea9a72d6/stdiomask-0.0.6.tar.gz\n",
      "  Installing build dependencies: started\n",
      "  Installing build dependencies: finished with status 'done'\n",
      "  Getting requirements to build wheel: started\n",
      "  Getting requirements to build wheel: finished with status 'done'\n",
      "    Preparing wheel metadata: started\n",
      "    Preparing wheel metadata: finished with status 'done'\n",
      "Collecting pysimplevalidate>=0.2.7 (from pyinputplus)\n",
      "  Downloading https://files.pythonhosted.org/packages/0b/54/8fd99436073dbdbba719e08e1b7e5f3f36a8cc9e518612e1b97e4806d2ce/PySimpleValidate-0.2.12.tar.gz\n",
      "  Installing build dependencies: started\n",
      "  Installing build dependencies: finished with status 'done'\n",
      "  Getting requirements to build wheel: started\n",
      "  Getting requirements to build wheel: finished with status 'done'\n",
      "    Preparing wheel metadata: started\n",
      "    Preparing wheel metadata: finished with status 'done'\n",
      "Building wheels for collected packages: pyinputplus, stdiomask, pysimplevalidate\n",
      "  Building wheel for pyinputplus (PEP 517): started\n",
      "  Building wheel for pyinputplus (PEP 517): finished with status 'done'\n",
      "  Created wheel for pyinputplus: filename=PyInputPlus-0.2.12-cp37-none-any.whl size=11315 sha256=ded2b578bd27cbb6c574b986ebe6cb2f86068aa446a8c68921b9da66cb23490d\n",
      "  Stored in directory: C:\\Users\\j_dev\\AppData\\Local\\pip\\Cache\\wheels\\6a\\fe\\06\\583326d5cf9ab6319b08f44ffbb8b804acb97cec61274c4b7b\n",
      "  Building wheel for stdiomask (PEP 517): started\n",
      "  Building wheel for stdiomask (PEP 517): finished with status 'done'\n",
      "  Created wheel for stdiomask: filename=stdiomask-0.0.6-cp37-none-any.whl size=3320 sha256=64176ced9d879ac58881e2a2e1f60b2052e16ed6f92475b3c41a02bb48f5de32\n",
      "  Stored in directory: C:\\Users\\j_dev\\AppData\\Local\\pip\\Cache\\wheels\\a6\\ff\\34\\66b26f570405c34acc8f39b8ec3f27f5cbeea05234f18959fd\n",
      "  Building wheel for pysimplevalidate (PEP 517): started\n",
      "  Building wheel for pysimplevalidate (PEP 517): finished with status 'done'\n",
      "  Created wheel for pysimplevalidate: filename=PySimpleValidate-0.2.12-cp37-none-any.whl size=16192 sha256=3870142229d724ca09509c494898c5df27d1d2aeb1215d303b0d3bf37212a4da\n",
      "  Stored in directory: C:\\Users\\j_dev\\AppData\\Local\\pip\\Cache\\wheels\\11\\08\\e4\\f395618ca9df12cfd52aa0d916153584a7e277bd5e87cf2fc2\n",
      "Successfully built pyinputplus stdiomask pysimplevalidate\n",
      "Installing collected packages: stdiomask, pysimplevalidate, pyinputplus\n",
      "Successfully installed pyinputplus-0.2.12 pysimplevalidate-0.2.12 stdiomask-0.0.6\n",
      "Note: you may need to restart the kernel to use updated packages.\n"
     ]
    }
   ],
   "source": [
    "pip install pyinputplus"
   ]
  },
  {
   "cell_type": "code",
   "execution_count": 1,
   "metadata": {},
   "outputs": [],
   "source": [
    "import pyinputplus as pyip"
   ]
  },
  {
   "cell_type": "markdown",
   "metadata": {},
   "source": [
    "# 3. What is the difference between inputInt() and inputFloat()?"
   ]
  },
  {
   "cell_type": "markdown",
   "metadata": {},
   "source": [
    "* inputInt() will take only integers as input by the users\n",
    "* inputFloat() will take both integers and float by users but it will return it as a float in both cases"
   ]
  },
  {
   "cell_type": "code",
   "execution_count": 2,
   "metadata": {},
   "outputs": [
    {
     "name": "stdout",
     "output_type": "stream",
     "text": [
      "Enter an Integer:1.13\n",
      "'1.13' is not an integer.\n",
      "Enter an Integer:4\n"
     ]
    }
   ],
   "source": [
    "result = pyip.inputInt(\"Enter an Integer:\")"
   ]
  },
  {
   "cell_type": "code",
   "execution_count": 8,
   "metadata": {},
   "outputs": [
    {
     "data": {
      "text/plain": [
       "int"
      ]
     },
     "execution_count": 8,
     "metadata": {},
     "output_type": "execute_result"
    }
   ],
   "source": [
    "type(result)"
   ]
  },
  {
   "cell_type": "code",
   "execution_count": 6,
   "metadata": {},
   "outputs": [
    {
     "name": "stdout",
     "output_type": "stream",
     "text": [
      "Enter a Float: 633\n"
     ]
    }
   ],
   "source": [
    "result2 = pyip.inputFloat(\"Enter a Float: \")"
   ]
  },
  {
   "cell_type": "code",
   "execution_count": 9,
   "metadata": {},
   "outputs": [
    {
     "data": {
      "text/plain": [
       "float"
      ]
     },
     "execution_count": 9,
     "metadata": {},
     "output_type": "execute_result"
    }
   ],
   "source": [
    "type(result2)"
   ]
  },
  {
   "cell_type": "markdown",
   "metadata": {},
   "source": [
    "# 4. How can you ensure that the user enters a whole number between 0 and 99 using PyInputPlus?"
   ]
  },
  {
   "cell_type": "code",
   "execution_count": 14,
   "metadata": {},
   "outputs": [
    {
     "name": "stdout",
     "output_type": "stream",
     "text": [
      "Enter Number: 55\n"
     ]
    }
   ],
   "source": [
    "test = pyip.inputInt(\"Enter Number: \", min = 0, max=99)"
   ]
  },
  {
   "cell_type": "code",
   "execution_count": 15,
   "metadata": {},
   "outputs": [
    {
     "data": {
      "text/plain": [
       "55"
      ]
     },
     "execution_count": 15,
     "metadata": {},
     "output_type": "execute_result"
    }
   ],
   "source": [
    "test"
   ]
  },
  {
   "cell_type": "markdown",
   "metadata": {},
   "source": [
    "# 5. What is passed to the allowRegexes and blockRegexes keyword arguments?"
   ]
  },
  {
   "cell_type": "markdown",
   "metadata": {},
   "source": [
    "* for allowRegexes, when a list of regex strings is passed as a keyword argument, it will check if the input provided by the user matches the regular expression and checks if it is valid.\n",
    "* for blockRegexes, when a list of regex strings is passed as a keyword argument and if the input contains any of the characters mentioned in the regular expression, then it will return 'This response is invalid'."
   ]
  },
  {
   "cell_type": "markdown",
   "metadata": {},
   "source": [
    "# 6. What does inputStr(limit=3) do if blank input is entered three times?"
   ]
  },
  {
   "cell_type": "markdown",
   "metadata": {},
   "source": [
    "* It will throw an error which says \"RetryLimitException\""
   ]
  },
  {
   "cell_type": "markdown",
   "metadata": {},
   "source": [
    "# 7. What does inputStr(limit=3, default='hello') do if blank input is entered three times?"
   ]
  },
  {
   "cell_type": "markdown",
   "metadata": {},
   "source": [
    "* In this case, if a blank input is entered 3 times, after the third time, the input will be 'hello'. This is because the default input is set as 'hello'."
   ]
  },
  {
   "cell_type": "code",
   "execution_count": 20,
   "metadata": {
    "scrolled": true
   },
   "outputs": [
    {
     "name": "stdout",
     "output_type": "stream",
     "text": [
      "\n",
      "Blank values are not allowed.\n",
      "\n",
      "Blank values are not allowed.\n",
      "\n",
      "Blank values are not allowed.\n"
     ]
    }
   ],
   "source": [
    "test_1 = pyip.inputStr(limit=3, default='hello')"
   ]
  },
  {
   "cell_type": "code",
   "execution_count": 22,
   "metadata": {},
   "outputs": [
    {
     "data": {
      "text/plain": [
       "'hello'"
      ]
     },
     "execution_count": 22,
     "metadata": {},
     "output_type": "execute_result"
    }
   ],
   "source": [
    "test_1"
   ]
  }
 ],
 "metadata": {
  "kernelspec": {
   "display_name": "Python 3",
   "language": "python",
   "name": "python3"
  },
  "language_info": {
   "codemirror_mode": {
    "name": "ipython",
    "version": 3
   },
   "file_extension": ".py",
   "mimetype": "text/x-python",
   "name": "python",
   "nbconvert_exporter": "python",
   "pygments_lexer": "ipython3",
   "version": "3.7.4"
  }
 },
 "nbformat": 4,
 "nbformat_minor": 2
}
