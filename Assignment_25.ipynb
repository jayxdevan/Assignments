{
 "cells": [
  {
   "cell_type": "markdown",
   "metadata": {},
   "source": [
    "# 1. What is the difference between enclosing a list comprehension in square brackets and parentheses?"
   ]
  },
  {
   "cell_type": "markdown",
   "metadata": {},
   "source": [
    "* A list comprehension is enclosed within square brackets, so that it returns a list itself. But, when it is enclosed within parentheses, it becomes a generator comprehension and returns a generator object."
   ]
  },
  {
   "cell_type": "code",
   "execution_count": 6,
   "metadata": {},
   "outputs": [
    {
     "data": {
      "text/plain": [
       "[0, 2, 4, 6, 8]"
      ]
     },
     "execution_count": 6,
     "metadata": {},
     "output_type": "execute_result"
    }
   ],
   "source": [
    "[i for i in range(10) if i%2==0]"
   ]
  },
  {
   "cell_type": "code",
   "execution_count": 7,
   "metadata": {
    "scrolled": true
   },
   "outputs": [
    {
     "data": {
      "text/plain": [
       "<generator object <genexpr> at 0x0000025485A665C8>"
      ]
     },
     "execution_count": 7,
     "metadata": {},
     "output_type": "execute_result"
    }
   ],
   "source": [
    "(i for i in range(10) if i%2==0)"
   ]
  },
  {
   "cell_type": "markdown",
   "metadata": {},
   "source": [
    "# 2. How are generators and iterators related?"
   ]
  },
  {
   "cell_type": "markdown",
   "metadata": {},
   "source": [
    "* Every generator created is an iterator itself. But, every iterator is not a generator. A generator is an easier way to create an iterator,which otherwise is a bit lengthy procedure to create an iterator. A generator is created by the same way a normal function is created, the only difference is that, instead of a return statement which is used at the end of a function, a yield statement is used for a generator function."
   ]
  },
  {
   "cell_type": "markdown",
   "metadata": {},
   "source": [
    "# 3. How can you tell if a function is a generator function?"
   ]
  },
  {
   "cell_type": "markdown",
   "metadata": {},
   "source": [
    "* If the function has a yield statement inside the body of the function, it automatically turns into a generator function."
   ]
  },
  {
   "cell_type": "markdown",
   "metadata": {},
   "source": [
    "# 4. What does a yield statement do?"
   ]
  },
  {
   "cell_type": "markdown",
   "metadata": {},
   "source": [
    "* In generator functions, a yield statement is used to control the execution flow of a function. When a return statement is used in a normal function, it stops that function entirely and gives the end result. The problem with return statement is that it takes up a lot of memory, when a large amount of data is used and can also be time consuming. To overcome the problems of memory allocation and time, the yield statement is used. The yield keyword does not execute the entire function just once and ends it completely. What the yield statement exactly does is that it executes the function, suspends the function and returns the yielded value to the caller. If the generator is called again, the function just resumes execution after the last yield statement. The generator can be called until the iterator is completely exhausted. The generator is commonly used with the built in function next() to get the yielded value one by one. Yield statement produce a sequence of values rather than just one value."
   ]
  },
  {
   "cell_type": "markdown",
   "metadata": {},
   "source": [
    "# 5. How are map calls and list comprehensions related? Compare and contrast the two."
   ]
  },
  {
   "cell_type": "markdown",
   "metadata": {},
   "source": [
    "*  Each, map function and list comprehension has a specific functionaly of its own. map() function takes in 2 arguments, a function and an iterable, where the function is applied to all the items of the iterable. Whereas the list comprehension is used to create a new list from an existing list using just one line of code.\n",
    "* List comprehension is comparatively easier to read than map() function.\n",
    "* Filtering is possible through list comprehension, since we can use a condition inside a list comprehension. But in map() function, that is not possible. However, a seperate filter function can be used after the map function is called.\n",
    "* List comprehension return a list, whereas a map function returns a map object."
   ]
  }
 ],
 "metadata": {
  "kernelspec": {
   "display_name": "Python 3",
   "language": "python",
   "name": "python3"
  },
  "language_info": {
   "codemirror_mode": {
    "name": "ipython",
    "version": 3
   },
   "file_extension": ".py",
   "mimetype": "text/x-python",
   "name": "python",
   "nbconvert_exporter": "python",
   "pygments_lexer": "ipython3",
   "version": "3.7.4"
  }
 },
 "nbformat": 4,
 "nbformat_minor": 2
}
