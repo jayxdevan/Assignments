{
 "cells": [
  {
   "cell_type": "markdown",
   "metadata": {},
   "source": [
    "# 1. A string value of the PDF filename is not passed to the PyPDF2.PdfFileReader() function. What do you pass to the function instead?"
   ]
  },
  {
   "cell_type": "markdown",
   "metadata": {},
   "source": [
    "* We need to first pass the string value of the PDF filename to the open function in read binary mode and then store it in a variable. That variable is then passed to the PyPDF2.PdfFileReader() function to return a PdfFileReader object."
   ]
  },
  {
   "cell_type": "markdown",
   "metadata": {},
   "source": [
    "# 2. What modes do the File objects for PdfFileReader() and PdfFileWriter() need to be opened in?"
   ]
  },
  {
   "cell_type": "markdown",
   "metadata": {},
   "source": [
    "* For PdfFileReader() function, the File object must be opened in the read-binary mode (rb).\n",
    "* For PdfFileWriter() function, the File object must be opened in the write-binary mode (wb)."
   ]
  },
  {
   "cell_type": "markdown",
   "metadata": {},
   "source": [
    "# 3. How do you acquire a Page object for page 5 from a PdfFileReader object?"
   ]
  },
  {
   "cell_type": "markdown",
   "metadata": {},
   "source": [
    "* We can acquire the Page object for page 5, by calling the getPage(5) function from a PdfFileReader object."
   ]
  },
  {
   "cell_type": "markdown",
   "metadata": {},
   "source": [
    "# 4. What PdfFileReader variable stores the number of pages in the PDF document?"
   ]
  },
  {
   "cell_type": "markdown",
   "metadata": {},
   "source": [
    "* numPages - A PdfFileReader variable that stores the number of pages of a PDF document."
   ]
  },
  {
   "cell_type": "markdown",
   "metadata": {},
   "source": [
    "# 5. If a PdfFileReader object’s PDF is encrypted with the password swordfish, what must you do before you can obtain Page objects from it?"
   ]
  },
  {
   "cell_type": "markdown",
   "metadata": {},
   "source": [
    "* We need to decrypt the PdfFileReader object first and then we will be able to obtain Page objects from it.\n",
    "* first step is pdfReader.decrypt('swordfish')\n",
    "* Second step, pageObj = pdfReader.getPage(4) (in case, Page 4 is what we need to get as Page object)\n",
    "* P.S. The above mentioned code is if the PdfFileReader object is saved to a variable called pdfReader."
   ]
  },
  {
   "cell_type": "markdown",
   "metadata": {},
   "source": [
    "# 6. What methods do you use to rotate a page?"
   ]
  },
  {
   "cell_type": "markdown",
   "metadata": {},
   "source": [
    "* We can either use rotateClockwise() or rotateCounterClockwise() methods to rotate a page. The numbers 90, 180, or 270 must be passed as arguments while using these functions to specify by how many degrees should the page be rotated."
   ]
  },
  {
   "cell_type": "markdown",
   "metadata": {},
   "source": [
    "# 7. What method returns a Document object for a file named demo.docx?"
   ]
  },
  {
   "cell_type": "markdown",
   "metadata": {},
   "source": [
    "* docx.Document('demo.docx') function returns a Document object for the file 'demo.docx'."
   ]
  },
  {
   "cell_type": "markdown",
   "metadata": {},
   "source": [
    "# 8. What is the difference between a Paragraph object and a Run object?"
   ]
  },
  {
   "cell_type": "markdown",
   "metadata": {},
   "source": [
    "* While using the Python-docx module, a Paragraph object represents a paragraph in the Word document file. A Document object which represents the entire Word Document file contains a list of Paragraph objects (each Paragraph object for each paragraph in the file). \n",
    "* Further more, Each Paragraph object contains a list of Run objects. Run object is a continous text with the same font style till it reaches another text with a different font style in which case another Run object will be created. To determine how many run objects are there in a paragraph object, it depends on the type and style of text that is used while typing a sentence in the Word Document File."
   ]
  },
  {
   "cell_type": "markdown",
   "metadata": {},
   "source": [
    "# 9. How do you obtain a list of Paragraph objects for a Document object that’s stored in a variable named doc?"
   ]
  },
  {
   "cell_type": "markdown",
   "metadata": {},
   "source": [
    "* doc.paragraphs will return a list of Paragraph objects. To see the text in each paragraph, we can use doc.paragraphs[0].text (in this case it will return the text of the paragraph object with index 0) "
   ]
  },
  {
   "cell_type": "markdown",
   "metadata": {},
   "source": [
    "# 10. What type of object has bold, underline, italic, strike, and outline variables?"
   ]
  },
  {
   "cell_type": "markdown",
   "metadata": {},
   "source": [
    "* The Run object type has bold, underline, italic, strike, and outline variables."
   ]
  },
  {
   "cell_type": "markdown",
   "metadata": {},
   "source": [
    "# 11. What is the difference between setting the bold variable to True, False, or None?"
   ]
  },
  {
   "cell_type": "markdown",
   "metadata": {},
   "source": [
    "* If the bold variable is set to True for a particular Run object, then the characters of the text in that Run object will be  Bold, regardless of the style which is used for that Run object.\n",
    "* If the bold variable is set to False and if the text was already Bold, it will change its state from Bold to a normal state.\n",
    "* If the bold variable is set to None, then the text of the Run object will be set to the default state it was in initially."
   ]
  },
  {
   "cell_type": "markdown",
   "metadata": {},
   "source": [
    "# 12. How do you create a Document object for a new Word document?"
   ]
  },
  {
   "cell_type": "markdown",
   "metadata": {},
   "source": [
    "* To Create a Document object for a new Word Document file, We must - \n",
    "* First call the docx.Document() function to return a new and empty Document Object which can be saved to a variable called 'doc'.\n",
    "* Then, doc.add_paragraph(\"paragraph\") can be used to add a paragraph to the Word Document. (this step is optional, since the function is only used for adding paragraphs)\n",
    "* Finally, doc.save('WordDocumentName.docx') will create and save the new Word Document File.(in this case the Word Document with the name WordDocumentName.docx will be created)\n"
   ]
  },
  {
   "cell_type": "markdown",
   "metadata": {},
   "source": [
    "# 13. How do you add a paragraph with the text 'Hello, there!' to a Document object stored in a variable named doc?"
   ]
  },
  {
   "cell_type": "code",
   "execution_count": 18,
   "metadata": {},
   "outputs": [],
   "source": [
    "import docx"
   ]
  },
  {
   "cell_type": "code",
   "execution_count": 19,
   "metadata": {},
   "outputs": [
    {
     "data": {
      "text/plain": [
       "<docx.text.paragraph.Paragraph at 0x2732b903648>"
      ]
     },
     "execution_count": 19,
     "metadata": {},
     "output_type": "execute_result"
    }
   ],
   "source": [
    "doc = docx.Document()\n",
    "doc.add_paragraph('Hello, there!')"
   ]
  },
  {
   "cell_type": "code",
   "execution_count": 20,
   "metadata": {},
   "outputs": [],
   "source": [
    "doc.save('greetings.docx')"
   ]
  },
  {
   "cell_type": "markdown",
   "metadata": {},
   "source": [
    "# 14. What integers represent the levels of headings available in Word documents? "
   ]
  },
  {
   "cell_type": "markdown",
   "metadata": {},
   "source": [
    "* Integer 0 is used to specify a heading at the top of the Word Document which is the Title. Integer 1 is the main heading heading after 0. Similairly 2, 3 and 4 can be used as subheadings and it can be observed that as the integer goes up, the size of the heading gets smaller. 4 is the last level that can be used as heading and it is also the lowest level of headings. 1,2,3,4 - represent different levels of headings. "
   ]
  },
  {
   "cell_type": "code",
   "execution_count": null,
   "metadata": {},
   "outputs": [],
   "source": []
  }
 ],
 "metadata": {
  "kernelspec": {
   "display_name": "Python 3",
   "language": "python",
   "name": "python3"
  },
  "language_info": {
   "codemirror_mode": {
    "name": "ipython",
    "version": 3
   },
   "file_extension": ".py",
   "mimetype": "text/x-python",
   "name": "python",
   "nbconvert_exporter": "python",
   "pygments_lexer": "ipython3",
   "version": "3.7.4"
  }
 },
 "nbformat": 4,
 "nbformat_minor": 2
}
