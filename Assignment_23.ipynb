{
 "cells": [
  {
   "cell_type": "markdown",
   "metadata": {},
   "source": [
    "# 1. What is the output of the following code, and why?"
   ]
  },
  {
   "cell_type": "code",
   "execution_count": 1,
   "metadata": {},
   "outputs": [
    {
     "name": "stdout",
     "output_type": "stream",
     "text": [
      "1 2 5\n"
     ]
    }
   ],
   "source": [
    "def func(a, b=4, c=5):\n",
    "    print(a, b, c)\n",
    "\n",
    "func(1, 2)"
   ]
  },
  {
   "cell_type": "markdown",
   "metadata": {},
   "source": [
    "Here when the function \"func\" is called, it prints (a,b,c) as it is written in the body of the function. when (1,2) are passed as positional arguments to func, the value of \"a\" becomes 1, the value of \"b\" is overwritten to 2, even though the default value of \"b\" is 4, and finally, it prints the default value of \"c\" which is 5."
   ]
  },
  {
   "cell_type": "markdown",
   "metadata": {},
   "source": [
    "# 2. What is the output of this code, and why?"
   ]
  },
  {
   "cell_type": "code",
   "execution_count": 7,
   "metadata": {},
   "outputs": [
    {
     "name": "stdout",
     "output_type": "stream",
     "text": [
      "1 2 3\n"
     ]
    }
   ],
   "source": [
    "def func(a, b, c=5):\n",
    "    print(a, b, c)\n",
    "\n",
    "func(1, c=3, b=2)"
   ]
  },
  {
   "cell_type": "markdown",
   "metadata": {},
   "source": [
    "In this case, when function \"func\" is called, positional and keyword arguments are used together. 1 is a positional argument for the parameter \"a\", while \"c\" =3 and \"b\" = 2 are keyword arguments. We can notice that when keyword arguments are used, the order does not matter. Even though we can use both keyword and positional arguments together, we cannot first give keyword arguments and then the positional arguments. Keyword arguments must follow positional arguments."
   ]
  },
  {
   "cell_type": "markdown",
   "metadata": {},
   "source": [
    "# 3. How about this code: what is its output, and why?"
   ]
  },
  {
   "cell_type": "code",
   "execution_count": 8,
   "metadata": {},
   "outputs": [
    {
     "name": "stdout",
     "output_type": "stream",
     "text": [
      "1 (2, 3)\n"
     ]
    }
   ],
   "source": [
    "def func(a, *pargs):\n",
    "    print(a, pargs)\n",
    "\n",
    "func(1, 2, 3)"
   ]
  },
  {
   "cell_type": "markdown",
   "metadata": {},
   "source": [
    "The function \"func\" is defined with 2 parameters, \"a\" is a normal parameter, where we have to pass an argument to a. Then, the (*pargs), in which we can list any number of arguments as we want. when \"func\" is called 1 is the positional argument for \"a\". 2,3 are values of pargs,which will return it in a tuple form. "
   ]
  },
  {
   "cell_type": "markdown",
   "metadata": {},
   "source": [
    "# 4. What does this code print, and why?"
   ]
  },
  {
   "cell_type": "code",
   "execution_count": 14,
   "metadata": {},
   "outputs": [
    {
     "name": "stdout",
     "output_type": "stream",
     "text": [
      "1 {'c': 3, 'b': 2}\n"
     ]
    }
   ],
   "source": [
    "def func(a, **kargs):\n",
    "    print(a, kargs)\n",
    "\n",
    "func(a=1, c=3, b=2)"
   ]
  },
  {
   "cell_type": "markdown",
   "metadata": {},
   "source": [
    "The function \"func\" is defined with 2 parameters, \"a\" is a normal parameter, where we have to pass an argument to a. Then, the (**kargs), in which we can list any number of keyword arguments as we want. when \"func\" is called a = 1 is a keyword argument. c = 3 and b = 2 are values of kargs which will return a dictionary of keyword arguments"
   ]
  },
  {
   "cell_type": "markdown",
   "metadata": {},
   "source": [
    "# 5. What gets printed by this, and why?"
   ]
  },
  {
   "cell_type": "code",
   "execution_count": 15,
   "metadata": {},
   "outputs": [
    {
     "name": "stdout",
     "output_type": "stream",
     "text": [
      "1 5 6 4\n"
     ]
    }
   ],
   "source": [
    "def func(a, b, c=3, d=4): print(a, b, c, d)\n",
    "\n",
    "func(1, *(5, 6))\n"
   ]
  },
  {
   "cell_type": "markdown",
   "metadata": {},
   "source": [
    "When func(1,*(5,6)) is called, here 1 is a positional argument for a. *(5,6) just expands the tuple, so value of \"b\" becomes 5 and value of \"c\" becomes 6. and finally, \"d\" becomes 4 by default. Therefore, it prints 1 5 4 6 "
   ]
  },
  {
   "cell_type": "markdown",
   "metadata": {},
   "source": [
    "# 6. One last time: what is the output of this code, and why?"
   ]
  },
  {
   "cell_type": "code",
   "execution_count": 20,
   "metadata": {},
   "outputs": [
    {
     "data": {
      "text/plain": [
       "(1, ['x'], {'a': 'y'})"
      ]
     },
     "execution_count": 20,
     "metadata": {},
     "output_type": "execute_result"
    }
   ],
   "source": [
    "def func(a, b, c): a = 2; b[0] = 'x'; c['a'] = 'y'\n",
    "\n",
    "l=1; m=[1]; n={'a':0}\n",
    "func(l, m,  n)\n",
    "l, m, n"
   ]
  },
  {
   "cell_type": "markdown",
   "metadata": {},
   "source": [
    "Here, the value of global variable \"l\" remains the same which is 1. the value of the list m changes, because once the function \"func\" is called and m is passed as argument,the 0th element of the element changes to 'x' from 1. Similairly, \"n\" is a dictionary and when passed as an argument, the value of \"a\" changes from 0 to \"y\" as written in the body."
   ]
  }
 ],
 "metadata": {
  "kernelspec": {
   "display_name": "Python 3",
   "language": "python",
   "name": "python3"
  },
  "language_info": {
   "codemirror_mode": {
    "name": "ipython",
    "version": 3
   },
   "file_extension": ".py",
   "mimetype": "text/x-python",
   "name": "python",
   "nbconvert_exporter": "python",
   "pygments_lexer": "ipython3",
   "version": "3.7.4"
  }
 },
 "nbformat": 4,
 "nbformat_minor": 2
}
