{
 "cells": [
  {
   "cell_type": "markdown",
   "metadata": {},
   "source": [
    "# 1. How are lambda expressions and def statements related?"
   ]
  },
  {
   "cell_type": "markdown",
   "metadata": {},
   "source": [
    "* Lambda expresssions are like the normal functions itself, except that it has no name.That is why it is also known as anonymous functions. It is typically used within functions, and are passed as arguments to higher order functions.While Lamda arguments can take any number of arguments, it should contain only one expression. On the other hand, the def functions require a function name and a body. The same function name must be then called in order to execute the function."
   ]
  },
  {
   "cell_type": "markdown",
   "metadata": {},
   "source": [
    "# 2. What’s the point of using lambda?"
   ]
  },
  {
   "cell_type": "markdown",
   "metadata": {},
   "source": [
    "* It is generally used, when we want to create a simple function for a short period of time without having to call it each time. It is typically used within functions, and are passed as arguments to higher order functions. The lambda function is also often used with in-built functions like map() and filter(). Lambda functions are also used to avoid typing lenghty lines of code, keeping it precise and concise."
   ]
  },
  {
   "cell_type": "markdown",
   "metadata": {},
   "source": [
    "# 3. Compare and contrast map, filter, and reduce."
   ]
  },
  {
   "cell_type": "markdown",
   "metadata": {},
   "source": [
    "* A map() function is used to execute a predefined function by a user on every item of an iterable (list,tuple,etc.). Therefore, a predefined function and an iterable must be passed as arguments to the map function. The map() function returns a map object which is then used with built in functions like list() or set(), etc. to convert the map object to a list or a set.\n",
    "* Just like map() function,even in filter() function,we have to pass a predefined function and an iterable as arguments.The only difference is that if there is a condition used in the predefined function, then the filter function will only return those items of the iterable for which the Boolean values are True and it will filter out the rest. This filter() function is again used with built in functions like list, to get the output in a list form.\n",
    "* Here in the reduce() function, we again need to pass a function and an iterable. The reduce() function returns a single value as a result. When reduce() is used, the function is initially applied to the first and the second items of the iterable, and a result is obtained. Then the function is applied to the previous result and the third item of the iterable. This process keeps on repeating untill there are no more items left in the iterable. Finally, the reduce() function will produce a single value as an output."
   ]
  },
  {
   "cell_type": "markdown",
   "metadata": {},
   "source": [
    "# 5. What are recursive functions, and how are they used?"
   ]
  },
  {
   "cell_type": "markdown",
   "metadata": {},
   "source": [
    "* When a function is defined with a def statement and function name, and in the body of this function if the same function name is called, it is then known as a recursive function. It is basically calling the same function within the function. The recursive function should always have a condition, where when the condition is met, the recursion stops. Otherwise, once the function is called, it will keep executing infinitely. Recursive functions are generally used to keep the code clean and precise,without having to create new functions within the same function which perform the same operation. Also,Sequence creation is simpler through recursion than utilizing any nested iteration.  "
   ]
  },
  {
   "cell_type": "markdown",
   "metadata": {},
   "source": [
    "# 6. What are some general design guidelines for coding functions?"
   ]
  },
  {
   "cell_type": "markdown",
   "metadata": {},
   "source": [
    "* Firstly, the keyword \"def\" must be used, which means that we are going to define a function.\n",
    "* Then, the def keyword must be followed by any function name as per the user's choice. The function name cannot start with any digit from 0 to 9. Also, the function name cannot be the same as the built in keywords in python. \n",
    "* Parameters can be given after the function name, to which arguments can be passed as values for the parameters when the function is called. This step is optional.\n",
    "* A colon is required which marks the ends of the funciton header.\n",
    "* The next line after the colon, will automatically start with a tab. \n",
    "* A good practice would be to give a documentation string (docstring) by the user which should explain what the function exactly does. Again this step is optional.\n",
    "* Then the main body of the function, which must contain the statements that needs to be executed to carry out the required operation as per the user whenever the function is called.\n",
    "* Finally, in most cases a return statement is used at the end of the funciton, to return a specific value as the result of the function. A print statement can also be used, if in case the user wants to print something. This step is also optional."
   ]
  },
  {
   "cell_type": "markdown",
   "metadata": {},
   "source": [
    "# 7. Name three or more ways that functions can communicate results to a caller."
   ]
  },
  {
   "cell_type": "markdown",
   "metadata": {},
   "source": [
    "* To get the results from a function, the return statement is used.\n",
    "* The yield statement is also used in a generator function to get the result."
   ]
  }
 ],
 "metadata": {
  "kernelspec": {
   "display_name": "Python 3",
   "language": "python",
   "name": "python3"
  },
  "language_info": {
   "codemirror_mode": {
    "name": "ipython",
    "version": 3
   },
   "file_extension": ".py",
   "mimetype": "text/x-python",
   "name": "python",
   "nbconvert_exporter": "python",
   "pygments_lexer": "ipython3",
   "version": "3.7.4"
  }
 },
 "nbformat": 4,
 "nbformat_minor": 2
}
