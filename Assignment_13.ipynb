{
 "cells": [
  {
   "cell_type": "markdown",
   "metadata": {},
   "source": [
    "# 1. What are some features Excel spreadsheets have that CSV spread-sheets don’t?"
   ]
  },
  {
   "cell_type": "markdown",
   "metadata": {},
   "source": [
    "* In Excel spreadsheets, the value of a cell can be of any datatype (i.e. string,int,float), but in CSV files, there is only type which is a string.\n",
    "* In Excel files, we can change the font size and colour as per our requirements, which is not possible in case of CSV files.\n",
    "* In a single Excel file, we can create as many worksheets as we want. We cannot create multiple worksheets in the case of CSV files.\n",
    "* The cell width and length size can be set in Excel, where as in CSV, that option is not available.\n",
    "* The cells cannot be merged in CSV files, which can be done in excel files.\n",
    "* Excel is popular for having features which allow the user to include charts or images to represent data. In CSV files, charts or images cannot be inserted into the files."
   ]
  },
  {
   "cell_type": "markdown",
   "metadata": {},
   "source": [
    "# 2. What do you pass to csv.reader() and csv.writer() to create reader and writer objects?"
   ]
  },
  {
   "cell_type": "markdown",
   "metadata": {},
   "source": [
    "* To create a reader object, we must first open the CSV file with open() function and specify the CSV file name which will then return a file object. The file object can be saved to a variable. This variable which represents the file object should be passed to csv.reader() function to create a reader object.\n",
    "* To create a writer object, it is almost similair to the above method, but the only difference is that the CSV file must be opened with the open() function, the CSV file name must be specified and also it must be opened in write mode. After which a File object will be returned which can be saved to a variable. This variable that contains the File object can then be passed to csv.writer() function to create a writer object."
   ]
  },
  {
   "cell_type": "markdown",
   "metadata": {},
   "source": [
    "# 3. What modes do File objects for reader and writer objects need to be opened in?"
   ]
  },
  {
   "cell_type": "markdown",
   "metadata": {},
   "source": [
    "* The File object must be opened in the Read mode (r) in case of Reader objects.\n",
    "* The File object must be opened in the Write mode (w) in case of Writer objects."
   ]
  },
  {
   "cell_type": "markdown",
   "metadata": {},
   "source": [
    "# 4. What method takes a list argument and writes it to a CSV file?"
   ]
  },
  {
   "cell_type": "markdown",
   "metadata": {},
   "source": [
    "* The writerow() method takes a list argument and writes it ro a CSV file."
   ]
  },
  {
   "cell_type": "markdown",
   "metadata": {},
   "source": [
    "# 5. What do the delimiter and lineterminator keyword arguments do?"
   ]
  },
  {
   "cell_type": "markdown",
   "metadata": {},
   "source": [
    "* The delimiter argument changes the string used to separate cells in a row.\n",
    "* The lineterminator argument changes the string used to separate rows."
   ]
  },
  {
   "cell_type": "markdown",
   "metadata": {},
   "source": [
    "# 6. What function takes a string of JSON data and returns a Python data structure?"
   ]
  },
  {
   "cell_type": "markdown",
   "metadata": {},
   "source": [
    "* the json.loads() function can take a string of JSON data and return it as a Python data Structure."
   ]
  },
  {
   "cell_type": "markdown",
   "metadata": {},
   "source": [
    "# 7. What function takes a Python data structure and returns a string of JSON data?"
   ]
  },
  {
   "cell_type": "markdown",
   "metadata": {},
   "source": [
    "* json.dumps() function takes a Python Data structure and returns a string of JSON data."
   ]
  }
 ],
 "metadata": {
  "kernelspec": {
   "display_name": "Python 3",
   "language": "python",
   "name": "python3"
  },
  "language_info": {
   "codemirror_mode": {
    "name": "ipython",
    "version": 3
   },
   "file_extension": ".py",
   "mimetype": "text/x-python",
   "name": "python",
   "nbconvert_exporter": "python",
   "pygments_lexer": "ipython3",
   "version": "3.7.4"
  }
 },
 "nbformat": 4,
 "nbformat_minor": 2
}
